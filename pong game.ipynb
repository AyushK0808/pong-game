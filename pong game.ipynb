{
 "cells": [
  {
   "cell_type": "code",
   "execution_count": null,
   "metadata": {},
   "outputs": [],
   "source": [
    "#PADDLE\n",
    "\n",
    "from turtle import Turtle\n",
    "\n",
    "class Paddle(Turtle):\n",
    "\n",
    "    def __init__(self):\n",
    "        super().__init__()\n",
    "        paddle=Turtle()\n",
    "        paddle.shape('square')\n",
    "        paddle.shapesize(stretch_len=1,stretch_wid=5)\n",
    "        paddle.color('white')\n",
    "        paddle.penup()\n",
    "        paddle.goto(350,0)\n",
    "    \n",
    "    \n",
    "    def go_up(self):\n",
    "        new_y= self.ycor()+20\n",
    "        self.goto(self.xcor(),new_y)\n",
    "        \n",
    "    def go_down(self):\n",
    "        new_y= self.ycor()-20\n",
    "        self.goto(self.xcor(),new_y)\n"
   ]
  },
  {
   "cell_type": "code",
   "execution_count": null,
   "metadata": {},
   "outputs": [],
   "source": [
    "#BALL\n",
    "\n",
    "from turtle import Turtle\n",
    "\n",
    "class Ball(Turtle):\n",
    "\n",
    "    def __init__(self):\n",
    "        super().__init__()\n",
    "        ball=Turtle()\n",
    "        ball.shape('circle')\n",
    "        ball.color('white')\n",
    "        ball.penup()\n",
    "        \n",
    "\n",
    "    def move(self):\n",
    "        new_x= self.xcor()+5\n",
    "        new_y=self.ycor()+5\n",
    "        self.goto(new_x,new_y)\n",
    "        "
   ]
  },
  {
   "cell_type": "code",
   "execution_count": 1,
   "metadata": {},
   "outputs": [
    {
     "ename": "NameError",
     "evalue": "name 'Paddle' is not defined",
     "output_type": "error",
     "traceback": [
      "\u001b[1;31m---------------------------------------------------------------------------\u001b[0m",
      "\u001b[1;31mNameError\u001b[0m                                 Traceback (most recent call last)",
      "\u001b[1;32md:\\projects\\pong-game\\pong game.ipynb Cell 3\u001b[0m in \u001b[0;36m<cell line: 12>\u001b[1;34m()\u001b[0m\n\u001b[0;32m      <a href='vscode-notebook-cell:/d%3A/projects/pong-game/pong%20game.ipynb#W2sZmlsZQ%3D%3D?line=7'>8</a>\u001b[0m screen\u001b[39m.\u001b[39msetup(\u001b[39m800\u001b[39m,\u001b[39m600\u001b[39m)\n\u001b[0;32m     <a href='vscode-notebook-cell:/d%3A/projects/pong-game/pong%20game.ipynb#W2sZmlsZQ%3D%3D?line=9'>10</a>\u001b[0m screen\u001b[39m.\u001b[39mtracer(\u001b[39m0\u001b[39m)\n\u001b[1;32m---> <a href='vscode-notebook-cell:/d%3A/projects/pong-game/pong%20game.ipynb#W2sZmlsZQ%3D%3D?line=11'>12</a>\u001b[0m r_paddle\u001b[39m=\u001b[39mPaddle((\u001b[39m350\u001b[39m,\u001b[39m0\u001b[39m))\n\u001b[0;32m     <a href='vscode-notebook-cell:/d%3A/projects/pong-game/pong%20game.ipynb#W2sZmlsZQ%3D%3D?line=12'>13</a>\u001b[0m l_paddle\u001b[39m=\u001b[39mPaddle((\u001b[39m-\u001b[39m\u001b[39m350\u001b[39m,\u001b[39m0\u001b[39m))\n\u001b[0;32m     <a href='vscode-notebook-cell:/d%3A/projects/pong-game/pong%20game.ipynb#W2sZmlsZQ%3D%3D?line=13'>14</a>\u001b[0m ball\u001b[39m=\u001b[39mBall()\n",
      "\u001b[1;31mNameError\u001b[0m: name 'Paddle' is not defined"
     ]
    }
   ],
   "source": [
    "#SCREEN\n",
    "from turtle import Screen\n",
    "import time\n",
    "\n",
    "\n",
    "screen=Screen()\n",
    "screen.bgcolor('black')\n",
    "screen.setup(800,600)\n",
    "\n",
    "screen.tracer(0)\n",
    "\n",
    "r_paddle=Paddle((350,0))\n",
    "l_paddle=Paddle((-350,0))\n",
    "ball=Ball()\n",
    "screen.exitonclick()\n",
    "\n",
    "screen.listen()\n",
    "screen.onkey(r_paddle.go_up,'Up')\n",
    "screen.onkey(r_paddle.go_down,'Down')\n",
    "screen.onkey(l_paddle.go_up,'W')\n",
    "screen.onkey(l_paddle.go_down,'S')\n",
    "\n",
    "\n",
    "flag=True\n",
    "while flag:\n",
    "    screen.update()\n",
    "    time.sleep(0.1)\n"
   ]
  }
 ],
 "metadata": {
  "kernelspec": {
   "display_name": "base",
   "language": "python",
   "name": "python3"
  },
  "language_info": {
   "codemirror_mode": {
    "name": "ipython",
    "version": 3
   },
   "file_extension": ".py",
   "mimetype": "text/x-python",
   "name": "python",
   "nbconvert_exporter": "python",
   "pygments_lexer": "ipython3",
   "version": "3.9.12"
  },
  "orig_nbformat": 4,
  "vscode": {
   "interpreter": {
    "hash": "6aa209696123fdad75e4e84d4d3188f4fafae22a545f27df8dd1ccecea79397e"
   }
  }
 },
 "nbformat": 4,
 "nbformat_minor": 2
}
